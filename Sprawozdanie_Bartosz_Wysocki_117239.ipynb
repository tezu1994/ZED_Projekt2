{
 "cells": [
  {
   "cell_type": "markdown",
   "metadata": {},
   "source": [
    "Sprawozdanie z projektu nr 2 - Bartosz Wysocki 117239\n",
    "\n",
    "Zaimportowanie potrzebnych bibliotek"
   ]
  },
  {
   "cell_type": "code",
   "execution_count": 1,
   "metadata": {
    "collapsed": true
   },
   "outputs": [],
   "source": [
    "import numpy as np\n",
    "import pandas as pd\n",
    "from sklearn.preprocessing import MinMaxScaler\n",
    "from sklearn.linear_model import LinearRegression"
   ]
  },
  {
   "cell_type": "markdown",
   "metadata": {},
   "source": [
    "Wczytanie plików csv do data frame-ów"
   ]
  },
  {
   "cell_type": "code",
   "execution_count": 2,
   "metadata": {},
   "outputs": [],
   "source": [
    "TRAIN_FILE_NAME = \"train.csv\"\n",
    "TEST_FILE_NAME = \"test.csv\"\n",
    "\n",
    "df_train = pd.read_csv(TRAIN_FILE_NAME, delimiter=\",\", header=0)\n",
    "df_test = pd.read_csv(TEST_FILE_NAME, delimiter=\",\", header=0)"
   ]
  },
  {
   "cell_type": "markdown",
   "metadata": {},
   "source": [
    "Zamiana wszystkich wartości na numeryczne oraz uzupełnienie wartości NaN przez 0"
   ]
  },
  {
   "cell_type": "code",
   "execution_count": 3,
   "metadata": {
    "collapsed": true
   },
   "outputs": [],
   "source": [
    "df_train = df_train._get_numeric_data()\n",
    "df_train[np.isnan(df_train)] = 0\n",
    "df_test = df_test._get_numeric_data()\n",
    "df_test[np.isnan(df_test)] = 0"
   ]
  },
  {
   "cell_type": "markdown",
   "metadata": {},
   "source": [
    "Zamiana data frame-ów na ndarray"
   ]
  },
  {
   "cell_type": "code",
   "execution_count": 4,
   "metadata": {
    "collapsed": true
   },
   "outputs": [],
   "source": [
    "numpy_array_traing = df_train.as_matrix()\n",
    "numpy_array_test = df_test.as_matrix()\n",
    "X_Train = numpy_array_traing[:, :-1]\n",
    "Y_Train = numpy_array_traing[:, -1]\n",
    "X_Test = numpy_array_test"
   ]
  },
  {
   "cell_type": "markdown",
   "metadata": {},
   "source": [
    "Przeskalowanie wartości"
   ]
  },
  {
   "cell_type": "code",
   "execution_count": 5,
   "metadata": {
    "collapsed": true
   },
   "outputs": [],
   "source": [
    "scaler = MinMaxScaler()\n",
    "scaler.fit(X_Train)\n",
    "X_Train_scaled = scaler.transform(X_Train)\n",
    "X_Test_scaled = scaler.transform(X_Test)"
   ]
  },
  {
   "cell_type": "markdown",
   "metadata": {},
   "source": [
    "Dokonanie predykcji"
   ]
  },
  {
   "cell_type": "code",
   "execution_count": 6,
   "metadata": {},
   "outputs": [],
   "source": [
    "regr = LinearRegression()\n",
    "regr.fit(X_Train_scaled, Y_Train)\n",
    "Y_Pred = regr.predict(X_Test_scaled)\n",
    "Y_Pred[Y_Pred < 0] = 0"
   ]
  },
  {
   "cell_type": "markdown",
   "metadata": {},
   "source": [
    "Zapisanie wyników do pliku csv"
   ]
  },
  {
   "cell_type": "code",
   "execution_count": 7,
   "metadata": {
    "collapsed": true
   },
   "outputs": [],
   "source": [
    "result = pd.DataFrame(Y_Pred, columns=[\"kwh\"])\n",
    "result.insert(0, \"Id\", pd.to_numeric(X_Test[:, 0], downcast='integer'))\n",
    "result.to_csv(\"output.csv\", sep=',', index=False)"
   ]
  },
  {
   "cell_type": "code",
   "execution_count": null,
   "metadata": {
    "collapsed": true
   },
   "outputs": [],
   "source": []
  }
 ],
 "metadata": {
  "kernelspec": {
   "display_name": "Python 2",
   "language": "python",
   "name": "python2"
  },
  "language_info": {
   "codemirror_mode": {
    "name": "ipython",
    "version": 2
   },
   "file_extension": ".py",
   "mimetype": "text/x-python",
   "name": "python",
   "nbconvert_exporter": "python",
   "pygments_lexer": "ipython2",
   "version": "2.7.13"
  }
 },
 "nbformat": 4,
 "nbformat_minor": 2
}
